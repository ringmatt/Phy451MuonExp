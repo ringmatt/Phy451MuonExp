{
 "cells": [
  {
   "cell_type": "code",
   "execution_count": 1,
   "metadata": {},
   "outputs": [],
   "source": [
    "import pandas as pd\n",
    "import numpy as np\n",
    "import seaborn as sns\n",
    "import scipy\n",
    "from scipy.optimize import curve_fit\n",
    "import matplotlib.pyplot as plt\n",
    "import numpy as np"
   ]
  },
  {
   "cell_type": "code",
   "execution_count": 2,
   "metadata": {},
   "outputs": [],
   "source": [
    "def func(t, a1, a2, t0, tc, c):\n",
    "    return a1 * np.exp(-t * (1/t0 + 1/tc)) + a2 * np.exp(-t/t0) + c"
   ]
  },
  {
   "cell_type": "code",
   "execution_count": 3,
   "metadata": {},
   "outputs": [],
   "source": [
    "t1 = pd.read_csv(\"Matt_Jacob_10_8.data\", delimiter = ' ', names = [\"Delta_T\", \"Timestamp\"])\n",
    "t2 = pd.read_csv(\"muon_data_Jacob_Matt_10_10.data\", delimiter = ' ', names = [\"Delta_T\", \"Timestamp\"])\n",
    "t3 = pd.read_csv(\"Bjon_10_15.data\", delimiter = ' ', names = [\"Delta_T\", \"Timestamp\"])\n",
    "t4 = pd.read_csv(\"muon_data_Jacob_Matt_10_17.data\", delimiter = ' ', names = [\"Delta_T\", \"Timestamp\"])"
   ]
  },
  {
   "cell_type": "code",
   "execution_count": 4,
   "metadata": {},
   "outputs": [],
   "source": [
    "t = t1.append(t2)\n",
    "t = t.append(t3)\n",
    "t = t.append(t4)"
   ]
  },
  {
   "cell_type": "code",
   "execution_count": 5,
   "metadata": {},
   "outputs": [],
   "source": [
    "t = t[t[\"Delta_T\"] < 20000]"
   ]
  },
  {
   "cell_type": "code",
   "execution_count": 6,
   "metadata": {},
   "outputs": [
    {
     "data": {
      "text/plain": [
       "12054"
      ]
     },
     "execution_count": 6,
     "metadata": {},
     "output_type": "execute_result"
    }
   ],
   "source": [
    "len(t)"
   ]
  },
  {
   "cell_type": "code",
   "execution_count": 7,
   "metadata": {},
   "outputs": [
    {
     "name": "stdout",
     "output_type": "stream",
     "text": [
      "Maximum number of bins: 125\n"
     ]
    }
   ],
   "source": [
    "max_bins = np.arange(0,20000, 160)\n",
    "print(\"Maximum number of bins: \" + str(len(max_bins)))"
   ]
  },
  {
   "cell_type": "code",
   "execution_count": 8,
   "metadata": {},
   "outputs": [],
   "source": [
    "bins = np.linspace(100, 20000, 80)"
   ]
  },
  {
   "cell_type": "code",
   "execution_count": 9,
   "metadata": {},
   "outputs": [],
   "source": [
    "ydata, xdata = np.histogram(t[\"Delta_T\"], bins = bins)\n",
    "xdata = xdata[:-1]"
   ]
  },
  {
   "cell_type": "code",
   "execution_count": 43,
   "metadata": {},
   "outputs": [],
   "source": [
    "bounds = ([-np.inf, -np.inf, 2000, 10, -np.inf], [np.inf, 1000, np.inf, np.inf, np.inf])"
   ]
  },
  {
   "cell_type": "code",
   "execution_count": 44,
   "metadata": {},
   "outputs": [],
   "source": [
    "popt, pcov = curve_fit(func, xdata, ydata, bounds = bounds) #p0 = [0, 1/2197, 0]"
   ]
  },
  {
   "cell_type": "code",
   "execution_count": 45,
   "metadata": {},
   "outputs": [
    {
     "data": {
      "image/png": "[encoded data removed]",
      "text/plain": [
       "<Figure size 432x288 with 1 Axes>"
      ]
     },
     "metadata": {
      "needs_background": "light"
     },
     "output_type": "display_data"
    }
   ],
   "source": [
    "plt.plot(xdata, func(xdata, *popt), 'r--', label='fit')\n",
    "plt.scatter(xdata, ydata)\n",
    "# plt.title(\"Applying Fit 7.1\")\n",
    "plt.ylabel(\"Count\")\n",
    "plt.xlabel(\"Decay Time (ns)\")\n",
    "plt.legend()\n",
    "plt.savefig(\"Fit7,1.png\")"
   ]
  },
  {
   "cell_type": "code",
   "execution_count": 46,
   "metadata": {},
   "outputs": [
    {
     "name": "stdout",
     "output_type": "stream",
     "text": [
      "392.38 * e^(-t[1/2366.46 + 1/2139.75]) + 1000.0 * e^(-t/2366.46) + 6.3\n"
     ]
    }
   ],
   "source": [
    "print(str(round(popt[0], 2)) + \" * e^(-t[1/\" + str(round(popt[2], 2)) + ' + 1/' + str(round(popt[3], 2)) + ']) + ' + str(round(popt[1], 2)) + \n",
    "     ' * e^(-t/' + str(round(popt[2], 2)) + ') + ' + str(round(popt[4], 2)))"
   ]
  },
  {
   "cell_type": "code",
   "execution_count": 47,
   "metadata": {},
   "outputs": [],
   "source": [
    "residuals = np.log(ydata)- np.log(func(xdata, *popt))\n",
    "ss_res = np.sum(residuals**2)\n",
    "ss_tot = np.sum((ydata-np.mean(ydata))**2)\n",
    "r_squared = 1 - (ss_res / ss_tot)"
   ]
  },
  {
   "cell_type": "code",
   "execution_count": 48,
   "metadata": {},
   "outputs": [
    {
     "data": {
      "text/plain": [
       "0.9999990825338486"
      ]
     },
     "execution_count": 48,
     "metadata": {},
     "output_type": "execute_result"
    }
   ],
   "source": [
    "r_squared"
   ]
  },
  {
   "cell_type": "code",
   "execution_count": 51,
   "metadata": {},
   "outputs": [],
   "source": [
    "std = np.sqrt(np.diag(pcov))"
   ]
  },
  {
   "cell_type": "code",
   "execution_count": 52,
   "metadata": {},
   "outputs": [
    {
     "data": {
      "text/plain": [
       "0.15663195323715393"
      ]
     },
     "execution_count": 52,
     "metadata": {},
     "output_type": "execute_result"
    }
   ],
   "source": [
    "std[2]/popt[2]"
   ]
  },
  {
   "cell_type": "code",
   "execution_count": null,
   "metadata": {},
   "outputs": [],
   "source": []
  }
 ],
 "metadata": {
  "kernelspec": {
   "display_name": "Python 3",
   "language": "python",
   "name": "python3"
  },
  "language_info": {
   "codemirror_mode": {
    "name": "ipython",
    "version": 3
   },
   "file_extension": ".py",
   "mimetype": "text/x-python",
   "name": "python",
   "nbconvert_exporter": "python",
   "pygments_lexer": "ipython3",
   "version": "3.7.4"
  }
 },
 "nbformat": 4,
 "nbformat_minor": 4
}
