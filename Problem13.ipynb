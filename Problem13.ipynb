{
 "cells": [
  {
   "cell_type": "code",
   "execution_count": 1,
   "metadata": {},
   "outputs": [],
   "source": [
    "import numpy as np\n",
    "import matplotlib.pyplot as plt\n",
    "import pandas as pd\n",
    "%matplotlib inline"
   ]
  },
  {
   "cell_type": "code",
   "execution_count": 2,
   "metadata": {},
   "outputs": [
    {
     "data": {
      "text/plain": [
       "2732"
      ]
     },
     "execution_count": 2,
     "metadata": {},
     "output_type": "execute_result"
    }
   ],
   "source": [
    "# Import the new data\n",
    "t = pd.read_csv(\"muon_data_Jacob_Matt_10_17.data\", delimiter = ' ', names = [\"Delta_T\", \"Timestamp\"])\n",
    "# Remove the useless data\n",
    "t = t[t[\"Delta_T\"] < 20000]\n",
    "# Determine how much data is left\n",
    "len(t)"
   ]
  },
  {
   "cell_type": "code",
   "execution_count": 3,
   "metadata": {},
   "outputs": [],
   "source": [
    "# Set the muon lifetime\n",
    "lifetime = 2366.46 # nanoseconds\n",
    "\n",
    "# Iterate through 50-count windows and determine the number which have lifetimes at or below the expected lifetime\n",
    "successes = []\n",
    "for i in np.arange(50, 2001, 50):\n",
    "    successes.append(len(t[i-50:i][t[i-50:i][\"Delta_T\"] <= lifetime]))"
   ]
  },
  {
   "cell_type": "code",
   "execution_count": 4,
   "metadata": {},
   "outputs": [
    {
     "data": {
      "image/png": "[encoded data removed]",
      "text/plain": [
       "<Figure size 432x288 with 1 Axes>"
      ]
     },
     "metadata": {
      "needs_background": "light"
     },
     "output_type": "display_data"
    }
   ],
   "source": [
    "# Plot the histogram\n",
    "plt.hist(successes, color = 'orange')\n",
    "plt.ylabel(\"Count\")\n",
    "plt.xlabel(\"Number of Successes\")\n",
    "plt.savefig(\"SuccessHist.png\")"
   ]
  },
  {
   "cell_type": "code",
   "execution_count": 5,
   "metadata": {},
   "outputs": [
    {
     "name": "stdout",
     "output_type": "stream",
     "text": [
      "The mean is 31.9 and the standard deviation is 2.90516780926679\n"
     ]
    }
   ],
   "source": [
    "m = np.mean(successes)\n",
    "s = np.std(successes)\n",
    "print(\"The mean is \" + str(m) + \" and the standard deviation is \" + str(s))"
   ]
  }
 ],
 "metadata": {
  "kernelspec": {
   "display_name": "Python 3",
   "language": "python",
   "name": "python3"
  },
  "language_info": {
   "codemirror_mode": {
    "name": "ipython",
    "version": 3
   },
   "file_extension": ".py",
   "mimetype": "text/x-python",
   "name": "python",
   "nbconvert_exporter": "python",
   "pygments_lexer": "ipython3",
   "version": "3.7.4"
  }
 },
 "nbformat": 4,
 "nbformat_minor": 4
}
