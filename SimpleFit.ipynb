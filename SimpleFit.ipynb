{
 "cells": [
  {
   "cell_type": "code",
   "execution_count": 1,
   "metadata": {},
   "outputs": [],
   "source": [
    "import pandas as pd\n",
    "import numpy as np\n",
    "import seaborn as sns\n",
    "import scipy\n",
    "from scipy.optimize import curve_fit\n",
    "import matplotlib.pyplot as plt"
   ]
  },
  {
   "cell_type": "code",
   "execution_count": 2,
   "metadata": {},
   "outputs": [],
   "source": [
    "def func(x, a, b, c):\n",
    "    return a * np.exp(-b * x) + c"
   ]
  },
  {
   "cell_type": "code",
   "execution_count": 3,
   "metadata": {},
   "outputs": [],
   "source": [
    "t1 = pd.read_csv(\"Matt_Jacob_10_8.data\", delimiter = ' ', names = [\"Delta_T\", \"Timestamp\"])\n",
    "t2 = pd.read_csv(\"muon_data_Jacob_Matt_10_10.data\", delimiter = ' ', names = [\"Delta_T\", \"Timestamp\"])\n",
    "# t3 = pd.read_csv(\"Bjon_10_15.data\", delimiter = ' ', names = [\"Delta_T\", \"Timestamp\"])"
   ]
  },
  {
   "cell_type": "code",
   "execution_count": 4,
   "metadata": {},
   "outputs": [],
   "source": [
    "t = t1.append(t2)\n",
    "# t = t.append(t3)"
   ]
  },
  {
   "cell_type": "code",
   "execution_count": 5,
   "metadata": {},
   "outputs": [],
   "source": [
    "t = t[t[\"Delta_T\"] < 20000]"
   ]
  },
  {
   "cell_type": "code",
   "execution_count": 6,
   "metadata": {},
   "outputs": [
    {
     "data": {
      "text/plain": [
       "2803"
      ]
     },
     "execution_count": 6,
     "metadata": {},
     "output_type": "execute_result"
    }
   ],
   "source": [
    "len(t)"
   ]
  },
  {
   "cell_type": "code",
   "execution_count": 7,
   "metadata": {},
   "outputs": [
    {
     "name": "stdout",
     "output_type": "stream",
     "text": [
      "Maximum number of bins: 125\n"
     ]
    }
   ],
   "source": [
    "max_bins = np.arange(0,20000, 160)\n",
    "print(\"Maximum number of bins: \" + str(len(max_bins)))"
   ]
  },
  {
   "cell_type": "code",
   "execution_count": 8,
   "metadata": {},
   "outputs": [],
   "source": [
    "ydata, xdata = np.histogram(t[\"Delta_T\"], bins = max_bins)\n",
    "xdata = xdata[:-1]"
   ]
  },
  {
   "cell_type": "code",
   "execution_count": 9,
   "metadata": {},
   "outputs": [
    {
     "name": "stderr",
     "output_type": "stream",
     "text": [
      "C:\\Users\\Matt\\Anaconda3\\lib\\site-packages\\scipy\\optimize\\minpack.py:795: OptimizeWarning: Covariance of the parameters could not be estimated\n",
      "  category=OptimizeWarning)\n"
     ]
    }
   ],
   "source": [
    "popt, pcov = curve_fit(func, xdata, ydata) #p0 = [0, 1/2197, 0]"
   ]
  },
  {
   "cell_type": "code",
   "execution_count": 10,
   "metadata": {},
   "outputs": [
    {
     "data": {
      "image/png": "[encoded data removed]",
      "text/plain": [
       "<Figure size 432x288 with 1 Axes>"
      ]
     },
     "metadata": {
      "needs_background": "light"
     },
     "output_type": "display_data"
    }
   ],
   "source": [
    "plt.plot(xdata, func(xdata, *popt), 'r--', label='fit: a=%5.3f, b=%5.3f, c=%5.3f' % tuple(popt))\n",
    "plt.scatter(xdata, ydata)\n",
    "# plt.title(\"Normed X-Scale\")\n",
    "plt.ylabel(\"Count\")\n",
    "plt.xlabel(\"Decay Time\")\n",
    "plt.legend()\n",
    "plt.savefig(\"NonNormedData.png\")"
   ]
  },
  {
   "cell_type": "code",
   "execution_count": 11,
   "metadata": {},
   "outputs": [
    {
     "data": {
      "text/plain": [
       "1.0"
      ]
     },
     "execution_count": 11,
     "metadata": {},
     "output_type": "execute_result"
    }
   ],
   "source": [
    "1/(popt[1])"
   ]
  },
  {
   "cell_type": "code",
   "execution_count": 12,
   "metadata": {},
   "outputs": [
    {
     "name": "stdout",
     "output_type": "stream",
     "text": [
      "120.39*e^(-1.0*x) + 21.61\n"
     ]
    }
   ],
   "source": [
    "print(str(round(popt[0], 2)) + '*e^(-' + str(round(popt[1], 2)) +'*x) + ' + str(round(popt[2], 2)))"
   ]
  },
  {
   "cell_type": "code",
   "execution_count": 13,
   "metadata": {},
   "outputs": [],
   "source": [
    "x_normed = np.arange(0,len(xdata), 1)"
   ]
  },
  {
   "cell_type": "code",
   "execution_count": 14,
   "metadata": {},
   "outputs": [],
   "source": [
    "popt, pcov = curve_fit(func, x_normed, ydata) #p0 = [0, 1/2197, 0]"
   ]
  },
  {
   "cell_type": "code",
   "execution_count": 15,
   "metadata": {},
   "outputs": [
    {
     "data": {
      "image/png": "[encoded data removed]",
      "text/plain": [
       "<Figure size 432x288 with 1 Axes>"
      ]
     },
     "metadata": {
      "needs_background": "light"
     },
     "output_type": "display_data"
    }
   ],
   "source": [
    "plt.plot(x_normed, func(x_normed, *popt), 'r--', label='fit: a=%5.3f, b=%5.3f, c=%5.3f' % tuple(popt))\n",
    "plt.scatter(x_normed, ydata)\n",
    "# plt.title(\"Normed X-Scale\")\n",
    "plt.ylabel(\"Count\")\n",
    "plt.xlabel(\"Bin Number\")\n",
    "plt.legend()\n",
    "plt.savefig(\"NormedData.png\")"
   ]
  },
  {
   "cell_type": "code",
   "execution_count": 16,
   "metadata": {},
   "outputs": [
    {
     "name": "stdout",
     "output_type": "stream",
     "text": [
      "2211.2251835922034\n"
     ]
    }
   ],
   "source": [
    "tau = 1/(popt[1]/160)\n",
    "print(tau)\n",
    "popt[1] = popt[1]/160"
   ]
  },
  {
   "cell_type": "code",
   "execution_count": 17,
   "metadata": {},
   "outputs": [
    {
     "name": "stdout",
     "output_type": "stream",
     "text": [
      "190.04*e^(-0.0*x) + 0.63\n"
     ]
    }
   ],
   "source": [
    "print(str(round(popt[0], 2)) + '*e^(-' + str(round(popt[1], 2)) +'*x) + ' + str(round(popt[2], 2)))"
   ]
  },
  {
   "cell_type": "code",
   "execution_count": 18,
   "metadata": {},
   "outputs": [
    {
     "data": {
      "image/png": "[encoded data removed]",
      "text/plain": [
       "<Figure size 432x288 with 1 Axes>"
      ]
     },
     "metadata": {
      "needs_background": "light"
     },
     "output_type": "display_data"
    }
   ],
   "source": [
    "plt.plot(xdata, func(xdata, popt[0], popt[1], popt[2]), 'r--', label='fit: a=%5.2f, b=%5.4f, c=%5.2f' % tuple(popt))\n",
    "plt.scatter(xdata, ydata)\n",
    "# plt.title(\"Normed X-Scale\")\n",
    "plt.ylabel(\"Count\")\n",
    "plt.xlabel(\"Decay Time\")\n",
    "plt.legend()\n",
    "plt.savefig(\"NormedReadjustedFit.png\")"
   ]
  },
  {
   "cell_type": "code",
   "execution_count": null,
   "metadata": {},
   "outputs": [],
   "source": []
  }
 ],
 "metadata": {
  "kernelspec": {
   "display_name": "Python 3",
   "language": "python",
   "name": "python3"
  },
  "language_info": {
   "codemirror_mode": {
    "name": "ipython",
    "version": 3
   },
   "file_extension": ".py",
   "mimetype": "text/x-python",
   "name": "python",
   "nbconvert_exporter": "python",
   "pygments_lexer": "ipython3",
   "version": "3.7.3"
  }
 },
 "nbformat": 4,
 "nbformat_minor": 4
}
