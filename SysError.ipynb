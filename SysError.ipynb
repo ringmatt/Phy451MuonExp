{
 "cells": [
  {
   "cell_type": "code",
   "execution_count": 1,
   "metadata": {},
   "outputs": [],
   "source": [
    "import numpy as np\n",
    "import pandas as pd"
   ]
  },
  {
   "cell_type": "code",
   "execution_count": 2,
   "metadata": {},
   "outputs": [],
   "source": [
    "# Import the files\n",
    "t10k = pd.read_csv(\"10uspulses.data\", delimiter = ' ', names = [\"Delta_T\", \"Timestamp\"])\n",
    "t1k = pd.read_csv(\"1uspulses.data\", delimiter = ' ', names = [\"Delta_T\", \"Timestamp\"])\n",
    "t500 = pd.read_csv(\"500nspulses.data\", delimiter = ' ', names = [\"Delta_T\", \"Timestamp\"])"
   ]
  },
  {
   "cell_type": "code",
   "execution_count": 3,
   "metadata": {},
   "outputs": [],
   "source": [
    "# Filter the data\n",
    "t10k = t10k[t10k[\"Delta_T\"] < 20000]\n",
    "t1k = t1k[t1k[\"Delta_T\"] < 20000]\n",
    "t500 = t500[t500[\"Delta_T\"] < 20000]"
   ]
  },
  {
   "cell_type": "code",
   "execution_count": 4,
   "metadata": {},
   "outputs": [
    {
     "name": "stdout",
     "output_type": "stream",
     "text": [
      "The 10us mean and standard deviation are 10000.01ns and 0.72ns, respectively\n"
     ]
    }
   ],
   "source": [
    "# Determine the mean and standard deviation of the readings\n",
    "# 10us\n",
    "print(\"The 10us mean and standard deviation are \" + str(round(t10k[\"Delta_T\"].mean(), 2)) + \"ns and \" +\n",
    "      str(round(t10k[\"Delta_T\"].std(), 2)) + \"ns, respectively\")"
   ]
  },
  {
   "cell_type": "code",
   "execution_count": 5,
   "metadata": {},
   "outputs": [
    {
     "name": "stdout",
     "output_type": "stream",
     "text": [
      "The 1us mean and standard deviation are 999.99ns and 0.85ns, respectively\n"
     ]
    }
   ],
   "source": [
    "# 1us\n",
    "print(\"The 1us mean and standard deviation are \" + str(round(t1k[\"Delta_T\"].mean(), 2)) + \"ns and \" +\n",
    "      str(round(t1k[\"Delta_T\"].std(), 2)) + \"ns, respectively\")"
   ]
  },
  {
   "cell_type": "code",
   "execution_count": 6,
   "metadata": {},
   "outputs": [
    {
     "name": "stdout",
     "output_type": "stream",
     "text": [
      "The 500ns mean and standard deviation are 500.0ns and 0.88ns, respectively\n"
     ]
    }
   ],
   "source": [
    "# 500ns\n",
    "print(\"The 500ns mean and standard deviation are \" + str(round(t500[\"Delta_T\"].mean(), 2)) + \"ns and \" +\n",
    "      str(round(t500[\"Delta_T\"].std(), 2)) + \"ns, respectively\")"
   ]
  },
  {
   "cell_type": "code",
   "execution_count": null,
   "metadata": {},
   "outputs": [],
   "source": []
  }
 ],
 "metadata": {
  "kernelspec": {
   "display_name": "Python 3",
   "language": "python",
   "name": "python3"
  },
  "language_info": {
   "codemirror_mode": {
    "name": "ipython",
    "version": 3
   },
   "file_extension": ".py",
   "mimetype": "text/x-python",
   "name": "python",
   "nbconvert_exporter": "python",
   "pygments_lexer": "ipython3",
   "version": "3.7.4"
  }
 },
 "nbformat": 4,
 "nbformat_minor": 4
}
